{
  "nbformat": 4,
  "nbformat_minor": 0,
  "metadata": {
    "colab": {
      "provenance": []
    },
    "kernelspec": {
      "name": "python3",
      "display_name": "Python 3"
    },
    "language_info": {
      "name": "python"
    }
  },
  "cells": [
    {
      "cell_type": "markdown",
      "source": [
        "# 🎬 Movie Recommendation System (User & Item-Based Collaborative Filtering)\n",
        "\n",
        "> This project develops a Movie Recommendation System using the MovieLens dataset.\n",
        "- It implements two collaborative filtering techniques:\n",
        "\n",
        "> User-Based Collaborative Filtering – recommends movies to a user based on ratings from similar users.\n",
        "\n",
        "> Item-Based Collaborative Filtering – recommends movies based on similarity between items (movies) the user has already rated.\n",
        "\n",
        "> The system also includes data visualization, evaluation using Precision@K, and an interactive demo."
      ],
      "metadata": {
        "id": "ILlQTjn3ePqY"
      }
    },
    {
      "cell_type": "code",
      "execution_count": 42,
      "metadata": {
        "id": "tBGC6vcLeDda"
      },
      "outputs": [],
      "source": [
        "# ============================================================\n",
        "# 0. Import Required Libraries\n",
        "# ============================================================\n",
        "# Numpy & Pandas: Data manipulation\n",
        "# Sklearn: Cosine similarity & train-test split\n",
        "# KaggleHub: Access to MovieLens dataset\n",
        "# Matplotlib & Seaborn: Visualization\n",
        "\n",
        "import numpy as np\n",
        "import pandas as pd\n",
        "from sklearn.metrics.pairwise import cosine_similarity\n",
        "from sklearn.model_selection import train_test_split\n",
        "import kagglehub\n",
        "from kagglehub import KaggleDatasetAdapter\n",
        "import matplotlib.pyplot as plt\n",
        "import seaborn as sns\n"
      ]
    },
    {
      "cell_type": "markdown",
      "source": [
        "## 1. Dataset Loading\n",
        "\n",
        "> Objective: Import movie, rating, and user demographic information from KaggleHub.\n",
        "\n",
        "> The dataset includes three files:\n",
        "\n",
        "- movie_info.csv → Movie titles, genres, and IDs.\n",
        "\n",
        "- ratings.csv → User ratings for movies.\n",
        "\n",
        "- user_demographics.csv → Age, gender, and other attributes of users.\n",
        "\n",
        "> We also ensure consistent column naming (movie_id)."
      ],
      "metadata": {
        "id": "p66cz1XIeVwZ"
      }
    },
    {
      "cell_type": "code",
      "source": [
        "# ============================================================\n",
        "# 1. Load datasets from KaggleHub\n",
        "# ============================================================\n",
        "print(\"--- Loading datasets ---\")\n",
        "try:\n",
        "    movie_info_df = kagglehub.load_dataset(\n",
        "        KaggleDatasetAdapter.PANDAS,\n",
        "        \"mukeshmanral/movielens-rating-dataset\",\n",
        "        \"movie_info.csv\",\n",
        "    )\n",
        "    rating_df = kagglehub.load_dataset(\n",
        "        KaggleDatasetAdapter.PANDAS,\n",
        "        \"mukeshmanral/movielens-rating-dataset\",\n",
        "        \"ratings.csv\",\n",
        "    )\n",
        "    user_demo_df = kagglehub.load_dataset(\n",
        "        KaggleDatasetAdapter.PANDAS,\n",
        "        \"mukeshmanral/movielens-rating-dataset\",\n",
        "        \"user_demographics.csv\",\n",
        "    )\n",
        "\n",
        "    print(\"Movies:\", movie_info_df.shape)\n",
        "    print(\"Ratings:\", rating_df.shape)\n",
        "    print(\"Users:\", user_demo_df.shape)\n",
        "\n",
        "    # Ensure consistent naming for merging\n",
        "    if \"movie id\" in movie_info_df.columns:\n",
        "        movie_info_df.rename(columns={\"movie id\": \"movie_id\"}, inplace=True)\n",
        "\n",
        "except Exception as e:\n",
        "    print(f\"Error loading datasets: {e}\")\n",
        "    exit()\n"
      ],
      "metadata": {
        "colab": {
          "base_uri": "https://localhost:8080/"
        },
        "id": "KFDyxl3GeZGo",
        "outputId": "5e3d1ff2-48d8-4dc5-83d9-87745bb98a60"
      },
      "execution_count": 43,
      "outputs": [
        {
          "output_type": "stream",
          "name": "stdout",
          "text": [
            "--- Loading datasets ---\n"
          ]
        },
        {
          "output_type": "stream",
          "name": "stderr",
          "text": [
            "/tmp/ipython-input-3524152812.py:6: DeprecationWarning: Use dataset_load() instead of load_dataset(). load_dataset() will be removed in a future version.\n",
            "  movie_info_df = kagglehub.load_dataset(\n"
          ]
        },
        {
          "output_type": "stream",
          "name": "stdout",
          "text": [
            "Using Colab cache for faster access to the 'movielens-rating-dataset' dataset.\n"
          ]
        },
        {
          "output_type": "stream",
          "name": "stderr",
          "text": [
            "/tmp/ipython-input-3524152812.py:11: DeprecationWarning: Use dataset_load() instead of load_dataset(). load_dataset() will be removed in a future version.\n",
            "  rating_df = kagglehub.load_dataset(\n"
          ]
        },
        {
          "output_type": "stream",
          "name": "stdout",
          "text": [
            "Using Colab cache for faster access to the 'movielens-rating-dataset' dataset.\n"
          ]
        },
        {
          "output_type": "stream",
          "name": "stderr",
          "text": [
            "/tmp/ipython-input-3524152812.py:16: DeprecationWarning: Use dataset_load() instead of load_dataset(). load_dataset() will be removed in a future version.\n",
            "  user_demo_df = kagglehub.load_dataset(\n"
          ]
        },
        {
          "output_type": "stream",
          "name": "stdout",
          "text": [
            "Using Colab cache for faster access to the 'movielens-rating-dataset' dataset.\n",
            "Movies: (1682, 22)\n",
            "Ratings: (100000, 4)\n",
            "Users: (943, 5)\n"
          ]
        }
      ]
    },
    {
      "cell_type": "markdown",
      "source": [
        "## 2. Data Preprocessing & Merging\n",
        "\n",
        "> Objective: Combine movie information with user ratings to form a single dataset.\n",
        "\n",
        "> Merge is performed on movie_id.\n",
        "\n",
        "- This provides each rating with the corresponding movie title and attributes."
      ],
      "metadata": {
        "id": "4uje0cqVeddG"
      }
    },
    {
      "cell_type": "code",
      "source": [
        "# ============================================================\n",
        "# 2. Merge ratings with movie information\n",
        "# ============================================================\n",
        "df = pd.merge(rating_df, movie_info_df, on=\"movie_id\", how=\"left\")\n",
        "print(\"\\n--- Merged data ---\")\n",
        "print(\"Merged data:\", df.shape)\n",
        "print(df.head())\n"
      ],
      "metadata": {
        "colab": {
          "base_uri": "https://localhost:8080/"
        },
        "id": "Fet-v6MCee1B",
        "outputId": "c92e6992-8aee-402e-b64d-39a76f9c90d4"
      },
      "execution_count": 44,
      "outputs": [
        {
          "output_type": "stream",
          "name": "stdout",
          "text": [
            "\n",
            "--- Merged data ---\n",
            "Merged data: (100000, 25)\n",
            "   user_id  movie_id  rating  unix_timestamp                 movie title  \\\n",
            "0      196       242       3       881250949                Kolya (1996)   \n",
            "1      186       302       3       891717742    L.A. Confidential (1997)   \n",
            "2       22       377       1       878887116         Heavyweights (1994)   \n",
            "3      244        51       2       880606923  Legends of the Fall (1994)   \n",
            "4      166       346       1       886397596         Jackie Brown (1997)   \n",
            "\n",
            "  release date  unknown  Action  Adventure  Animation  ...  Fantasy  \\\n",
            "0    24-Jan-97        0       0          0          0  ...        0   \n",
            "1    01-Jan-97        0       0          0          0  ...        0   \n",
            "2    01-Jan-94        0       0          0          0  ...        0   \n",
            "3    01-Jan-94        0       0          0          0  ...        0   \n",
            "4    01-Jan-97        0       0          0          0  ...        0   \n",
            "\n",
            "   Film-Noir  Horror  Musical  Mystery  Romance  Sci-Fi  Thriller  War  \\\n",
            "0          0       0        0        0        0       0         0    0   \n",
            "1          1       0        0        1        0       0         1    0   \n",
            "2          0       0        0        0        0       0         0    0   \n",
            "3          0       0        0        0        1       0         0    1   \n",
            "4          0       0        0        0        0       0         0    0   \n",
            "\n",
            "   Western  \n",
            "0        0  \n",
            "1        0  \n",
            "2        0  \n",
            "3        1  \n",
            "4        0  \n",
            "\n",
            "[5 rows x 25 columns]\n"
          ]
        }
      ]
    },
    {
      "cell_type": "markdown",
      "source": [
        "## 3. Train-Test Split\n",
        "\n",
        "> Objective: Prepare training and testing datasets for fair evaluation.\n",
        "\n",
        "> Split data per user (not randomly across the dataset).\n",
        "\n",
        "> Each user’s ratings are divided into 80% training and 20% testing.\n",
        "\n",
        "> Users with fewer than 5 ratings are kept only in training (no evaluation possible)."
      ],
      "metadata": {
        "id": "nS-cuWtLegl_"
      }
    },
    {
      "cell_type": "code",
      "source": [
        "# ============================================================\n",
        "# 3. Train-test split per user\n",
        "# ============================================================\n",
        "print(\"\\n--- Splitting data into training and test sets ---\")\n",
        "train_list, test_list = [], []\n",
        "for user, group in df.groupby(\"user_id\"):\n",
        "    if len(group) < 5:\n",
        "        # Users with very few ratings are excluded from test\n",
        "        train_list.append(group)\n",
        "        continue\n",
        "    train, test = train_test_split(group, test_size=0.2, random_state=42)\n",
        "    train_list.append(train)\n",
        "    test_list.append(test)\n",
        "\n",
        "train_df = pd.concat(train_list)\n",
        "test_df = pd.concat(test_list)\n",
        "print(\"Train size:\", train_df.shape, \"Test size:\", test_df.shape)\n"
      ],
      "metadata": {
        "colab": {
          "base_uri": "https://localhost:8080/"
        },
        "id": "jeVz_yHieiXu",
        "outputId": "536b2f0c-5b69-46d9-e2d8-effdbc2a96aa"
      },
      "execution_count": 45,
      "outputs": [
        {
          "output_type": "stream",
          "name": "stdout",
          "text": [
            "\n",
            "--- Splitting data into training and test sets ---\n",
            "Train size: (79619, 25) Test size: (20381, 25)\n"
          ]
        }
      ]
    },
    {
      "cell_type": "markdown",
      "source": [
        "## 4. User-Item Matrix\n",
        "\n",
        "> Objective: Convert ratings into a User-Item Matrix.\n",
        "\n",
        "- Rows = Users\n",
        "\n",
        "- Columns = Movies\n",
        "\n",
        "- Values = Ratings (missing ratings filled with 0).\n",
        "\n",
        "> This matrix is the basis for similarity computation."
      ],
      "metadata": {
        "id": "WrPr4uRdel3M"
      }
    },
    {
      "cell_type": "code",
      "source": [
        "# ============================================================\n",
        "# 4. Create the User-Item matrix\n",
        "# ============================================================\n",
        "user_item_matrix = train_df.pivot_table(\n",
        "    index=\"user_id\", columns=\"movie_id\", values=\"rating\"\n",
        ").fillna(0)\n",
        "\n",
        "print(\"\\n--- User-Item matrix ---\")\n",
        "print(\"User-Item matrix:\", user_item_matrix.shape)\n"
      ],
      "metadata": {
        "colab": {
          "base_uri": "https://localhost:8080/"
        },
        "id": "yWPHzneEenTI",
        "outputId": "6535891f-faa6-4ea1-84a5-89c461db7e66"
      },
      "execution_count": 46,
      "outputs": [
        {
          "output_type": "stream",
          "name": "stdout",
          "text": [
            "\n",
            "--- User-Item matrix ---\n",
            "User-Item matrix: (943, 1650)\n"
          ]
        }
      ]
    },
    {
      "cell_type": "markdown",
      "source": [
        "## 5. User-Based Collaborative Filtering\n",
        "### Step 5.1: Compute User Similarity\n",
        "\n",
        "> Objective: Measure similarity between users using Cosine Similarity.\n",
        "\n",
        "- Cosine Similarity compares users’ rating patterns.\n",
        "\n",
        " - Higher values indicate stronger similarity."
      ],
      "metadata": {
        "id": "IgrUNhDNeo_0"
      }
    },
    {
      "cell_type": "code",
      "source": [
        "# ============================================================\n",
        "# 5. Compute user-user similarity\n",
        "# ============================================================\n",
        "print(\"\\n--- Computing user similarity ---\")\n",
        "user_similarity = cosine_similarity(user_item_matrix)\n",
        "user_similarity_df = pd.DataFrame(\n",
        "    user_similarity, index=user_item_matrix.index, columns=user_item_matrix.index\n",
        ")\n"
      ],
      "metadata": {
        "colab": {
          "base_uri": "https://localhost:8080/"
        },
        "id": "afY1y9aZeqiL",
        "outputId": "cf571689-d575-414c-d170-0fe11f95d85e"
      },
      "execution_count": 47,
      "outputs": [
        {
          "output_type": "stream",
          "name": "stdout",
          "text": [
            "\n",
            "--- Computing user similarity ---\n"
          ]
        }
      ]
    },
    {
      "cell_type": "markdown",
      "source": [
        "### Step 5.2: User-Based Recommendation Function\n",
        "\n",
        "> Objective: Recommend movies for a target user based on similar users.\n",
        "\n",
        "- Identify k-nearest neighbors (similar users).\n",
        "\n",
        "- Aggregate neighbors’ ratings (weighted by similarity).\n",
        "\n",
        "- Exclude movies already rated by the user.\n",
        "\n",
        "- Return Top-N recommendations with predicted scores."
      ],
      "metadata": {
        "id": "W5rWjhhceu6z"
      }
    },
    {
      "cell_type": "code",
      "source": [
        "def recommend_movies_user_based(target_user, top_n=10, k_neighbors=5):\n",
        "    \"\"\"\n",
        "    Recommends top-rated unseen movies for a given user\n",
        "    using user-based collaborative filtering.\n",
        "    \"\"\"\n",
        "    if target_user not in user_item_matrix.index:\n",
        "        print(f\"User {target_user} not found in the training data.\")\n",
        "        return pd.DataFrame()\n",
        "\n",
        "    # Step 1: Identify nearest neighbors\n",
        "    sim_scores = user_similarity_df.loc[target_user].drop(target_user)\n",
        "    neighbors = sim_scores.sort_values(ascending=False).head(k_neighbors).index\n",
        "\n",
        "    # Step 2: Compute weighted average of neighbors' ratings\n",
        "    neighbor_ratings = user_item_matrix.loc[neighbors]\n",
        "    sim_weights = sim_scores.loc[neighbors].values.reshape(-1, 1)\n",
        "\n",
        "    weighted_ratings = (neighbor_ratings.to_numpy().T @ sim_weights).flatten()\n",
        "    norm_weights = np.sum(np.abs(sim_weights))\n",
        "\n",
        "    pred_scores = (\n",
        "        pd.Series(weighted_ratings / norm_weights, index=user_item_matrix.columns)\n",
        "        if norm_weights != 0 else pd.Series(0, index=user_item_matrix.columns)\n",
        "    )\n",
        "\n",
        "    # Step 3: Remove already watched movies\n",
        "    seen_movies = set(train_df[train_df.user_id == target_user].movie_id)\n",
        "    pred_scores = pred_scores.drop(list(seen_movies), errors=\"ignore\")\n",
        "\n",
        "    # Step 4: Return Top-N recommendations\n",
        "    top_movies = pred_scores.sort_values(ascending=False).head(top_n)\n",
        "    available_cols = [c for c in [\"movie_id\", \"movie title\", \"title\", \"year\", \"genres\"]\n",
        "                      if c in movie_info_df.columns]\n",
        "\n",
        "    recs = movie_info_df[movie_info_df.movie_id.isin(top_movies.index)][available_cols].drop_duplicates()\n",
        "    recs = recs.set_index(\"movie_id\").loc[top_movies.index]\n",
        "    recs[\"predicted_score\"] = top_movies.values\n",
        "\n",
        "    return recs\n"
      ],
      "metadata": {
        "id": "90rfW-C5ewXg"
      },
      "execution_count": 48,
      "outputs": []
    },
    {
      "cell_type": "markdown",
      "source": [
        "### Step 5.3: Evaluation (Precision@K)\n",
        "\n",
        "> Objective: Evaluate how accurate recommendations are.\n",
        "\n",
        "- Precision@K = Proportion of recommended movies that are relevant (present in test set).\n",
        "\n",
        "- Calculated across all users in test set."
      ],
      "metadata": {
        "id": "n6gjDbHwe4ia"
      }
    },
    {
      "cell_type": "code",
      "source": [
        "def precision_at_k_user_based(k=10):\n",
        "    \"\"\"\n",
        "    Calculates the average Precision@K for all users in the test set.\n",
        "    \"\"\"\n",
        "    precisions = []\n",
        "    for user in test_df.user_id.unique():\n",
        "        recs = recommend_movies_user_based(user, top_n=k)\n",
        "        if recs is None or recs.empty:\n",
        "            continue\n",
        "\n",
        "        recommended_movies = set(recs.index)\n",
        "        relevant_movies = set(test_df[test_df.user_id == user].movie_id)\n",
        "\n",
        "        hits = recommended_movies.intersection(relevant_movies)\n",
        "        precisions.append(len(hits) / k)\n",
        "\n",
        "    return np.mean(precisions) if precisions else 0\n"
      ],
      "metadata": {
        "id": "I5PGqztne536"
      },
      "execution_count": 49,
      "outputs": []
    },
    {
      "cell_type": "markdown",
      "source": [
        "## 6. Item-Based Collaborative Filtering\n",
        "### Step 6.1: Create Item-User Matrix\n",
        "\n",
        "> Objective: Transform the User-Item matrix into an Item-User matrix.\n",
        "\n",
        "- Rows = Movies\n",
        "\n",
        "- Columns = Users\n",
        "\n",
        "- Values = Ratings\n",
        "\n",
        "> This representation allows similarity to be calculated between movies."
      ],
      "metadata": {
        "id": "nqWpMkboe8re"
      }
    },
    {
      "cell_type": "code",
      "source": [
        "# ============================================================\n",
        "# 8. Create the Item-User matrix\n",
        "# ============================================================\n",
        "item_user_matrix = user_item_matrix.T\n",
        "print(\"\\n--- Item-User matrix ---\")\n",
        "print(\"Item-User matrix:\", item_user_matrix.shape)\n"
      ],
      "metadata": {
        "colab": {
          "base_uri": "https://localhost:8080/"
        },
        "id": "PMfE9I0je9yT",
        "outputId": "0d41620f-0cec-442a-9ec8-f5f9de96dab6"
      },
      "execution_count": 50,
      "outputs": [
        {
          "output_type": "stream",
          "name": "stdout",
          "text": [
            "\n",
            "--- Item-User matrix ---\n",
            "Item-User matrix: (1650, 943)\n"
          ]
        }
      ]
    },
    {
      "cell_type": "markdown",
      "source": [
        "### Step 6.2: Compute Item Similarity\n",
        "\n",
        "> Objective: Measure similarity between movies.\n",
        "\n",
        "- Cosine Similarity is applied between movies (rows of item-user matrix).\n",
        "\n",
        "> Movies that are often rated similarly by users will have higher similarity values."
      ],
      "metadata": {
        "id": "2Rf9IwbWe_cR"
      }
    },
    {
      "cell_type": "code",
      "source": [
        "print(\"\\n--- Computing item similarity ---\")\n",
        "item_similarity = cosine_similarity(item_user_matrix)\n",
        "item_similarity_df = pd.DataFrame(\n",
        "    item_similarity, index=item_user_matrix.index, columns=item_user_matrix.index\n",
        ")\n"
      ],
      "metadata": {
        "colab": {
          "base_uri": "https://localhost:8080/"
        },
        "id": "59q-GQyDfA1C",
        "outputId": "d6c37d20-5710-4509-ef04-0999313b6294"
      },
      "execution_count": 51,
      "outputs": [
        {
          "output_type": "stream",
          "name": "stdout",
          "text": [
            "\n",
            "--- Computing item similarity ---\n"
          ]
        }
      ]
    },
    {
      "cell_type": "markdown",
      "source": [
        "### Step 6.3: Item-Based Recommendation Function\n",
        "\n",
        "> Objective: Recommend movies for a target user based on movies they have already rated.\n",
        "\n",
        "- Identify movies rated by the user.\n",
        "\n",
        "- For each rated movie, find similar movies using item similarity.\n",
        "\n",
        "- Weight similarity by the rating given by the user.\n",
        "\n",
        "- Aggregate predictions across all rated movies.\n",
        "\n",
        "- Exclude movies the user has already seen."
      ],
      "metadata": {
        "id": "PnTjBF6ifDlA"
      }
    },
    {
      "cell_type": "code",
      "source": [
        "def recommend_movies_item_based(target_user, top_n=10):\n",
        "    \"\"\"\n",
        "    Recommends movies using item-based collaborative filtering.\n",
        "    \"\"\"\n",
        "    if target_user not in user_item_matrix.index:\n",
        "        print(f\"User {target_user} not found in the training data.\")\n",
        "        return pd.DataFrame()\n",
        "\n",
        "    # Step 1: Fetch movies already rated by the user\n",
        "    user_ratings = train_df[train_df.user_id == target_user].set_index(\"movie_id\")\n",
        "\n",
        "    # Step 2: Initialize prediction scores\n",
        "    pred_scores = pd.Series(0, index=item_user_matrix.index)\n",
        "\n",
        "    # Step 3: For each rated movie, accumulate similarity-weighted scores\n",
        "    for item_id, rating in user_ratings['rating'].items():\n",
        "        sim_scores = item_similarity_df[item_id].drop(item_id, errors=\"ignore\")\n",
        "        pred_scores += sim_scores * rating\n",
        "\n",
        "    # Step 4: Normalize by similarity sums\n",
        "    norm_weights = item_similarity_df.loc[user_ratings.index].sum(axis=0)\n",
        "    pred_scores.loc[norm_weights != 0] /= norm_weights.loc[norm_weights != 0]\n",
        "\n",
        "    # Step 5: Remove movies already seen\n",
        "    seen_movies = set(user_ratings.index)\n",
        "    pred_scores = pred_scores.drop(list(seen_movies), errors=\"ignore\")\n",
        "\n",
        "    # Step 6: Select Top-N recommendations\n",
        "    top_movies = pred_scores.sort_values(ascending=False).head(top_n)\n",
        "    available_cols = [c for c in [\"movie_id\", \"movie title\", \"title\", \"year\", \"genres\"]\n",
        "                      if c in movie_info_df.columns]\n",
        "\n",
        "    recs = movie_info_df[movie_info_df.movie_id.isin(top_movies.index)][available_cols].drop_duplicates()\n",
        "    recs = recs.set_index(\"movie_id\").loc[top_movies.index]\n",
        "    recs[\"predicted_score\"] = top_movies.values\n",
        "\n",
        "    return recs\n",
        "\n"
      ],
      "metadata": {
        "id": "v2T-AolifFAE"
      },
      "execution_count": 52,
      "outputs": []
    },
    {
      "cell_type": "markdown",
      "source": [
        "### Step 6.4: Evaluation (Precision@K)\n",
        "\n",
        "> Objective: Evaluate the accuracy of item-based recommendations.\n",
        "\n",
        "- Precision@K is computed in the same way as for user-based filtering.\n",
        "\n",
        "- Checks how many recommended movies are actually present in the test set."
      ],
      "metadata": {
        "id": "sIuipPCSfHmR"
      }
    },
    {
      "cell_type": "code",
      "source": [
        "def precision_at_k_item_based(k=10):\n",
        "    \"\"\"\n",
        "    Calculates the average Precision@K for all users in the test set.\n",
        "    \"\"\"\n",
        "    precisions = []\n",
        "    for user in test_df.user_id.unique():\n",
        "        recs = recommend_movies_item_based(user, top_n=k)\n",
        "        if recs is None or recs.empty:\n",
        "            continue\n",
        "\n",
        "        recommended_movies = set(recs.index)\n",
        "        relevant_movies = set(test_df[test_df.user_id == user].movie_id)\n",
        "\n",
        "        hits = recommended_movies.intersection(relevant_movies)\n",
        "        precisions.append(len(hits) / k)\n",
        "\n",
        "    return np.mean(precisions) if precisions else 0\n"
      ],
      "metadata": {
        "id": "7omj_iP0fIrg"
      },
      "execution_count": 53,
      "outputs": []
    },
    {
      "cell_type": "markdown",
      "source": [
        "## 7. Data Visualization\n",
        "\n",
        "> Objective: Create plots to understand dataset characteristics.\n",
        "\n",
        "- Distribution of Ratings: Shows how users rate movies (e.g., bias towards higher/lower ratings).\n",
        "\n",
        "- Top 10 Most Rated Movies: Displays which movies received the most ratings."
      ],
      "metadata": {
        "id": "FwwU9fRifLFM"
      }
    },
    {
      "cell_type": "code",
      "source": [
        "def visualize_data():\n",
        "    \"\"\"\n",
        "    Generates plots for data distribution and popular movies.\n",
        "    \"\"\"\n",
        "    print(\"\\n--- Generating Plots ---\")\n",
        "    plt.style.use('seaborn-v0_8-whitegrid')\n",
        "\n",
        "    # Plot 1: Distribution of ratings\n",
        "    plt.figure(figsize=(6, 4))\n",
        "    sns.countplot(x='rating', data=df)\n",
        "    plt.title('Distribution of Movie Ratings', fontsize=16)\n",
        "    plt.xlabel('Rating', fontsize=12)\n",
        "    plt.ylabel('Count', fontsize=12)\n",
        "    plt.show()\n",
        "\n",
        "    # Plot 2: Top 10 most frequently rated movies\n",
        "    movie_counts = df['movie title'].value_counts().head(10)\n",
        "    plt.figure(figsize=(6, 4))\n",
        "    sns.barplot(x=movie_counts.values, y=movie_counts.index, palette='viridis')\n",
        "    plt.title('Top 10 Most Frequently Rated Movies', fontsize=16)\n",
        "    plt.xlabel('Number of Ratings', fontsize=12)\n",
        "    plt.ylabel('Movie Title', fontsize=12)\n",
        "    plt.show()\n"
      ],
      "metadata": {
        "id": "WqCIlzATfMhW"
      },
      "execution_count": 54,
      "outputs": []
    },
    {
      "cell_type": "markdown",
      "source": [
        "## 8. Main Program Execution\n",
        "\n",
        "> Objective: Provide an interactive interface for running the system.\n",
        "\n",
        "- Users can choose between User-Based or Item-Based recommendation methods.\n",
        "\n",
        "- Prompts for a user ID to generate personalized recommendations.\n",
        "\n",
        "- Displays recommendations and evaluates Precision@10."
      ],
      "metadata": {
        "id": "MmbNXkSufPjL"
      }
    },
    {
      "cell_type": "code",
      "source": [
        "def main():\n",
        "    \"\"\"\n",
        "    Main function to run the recommendation system demo and evaluation.\n",
        "    \"\"\"\n",
        "    visualize_data()\n",
        "\n",
        "    print(\"\\n--- Movie Recommendation System Demo ---\")\n",
        "    print(\"Welcome to the Movie Recommendation System!\")\n",
        "    print(\"Please choose a recommendation method:\")\n",
        "\n",
        "    method_choice = \"\"\n",
        "    while(method_choice != \"3\"):\n",
        "\n",
        "      try:\n",
        "\n",
        "        # Step 1: Select recommendation approach\n",
        "        method_choice = input(\n",
        "               \"\\nChoose a recommendation method:\\n\"\n",
        "                \"1. User-Based Collaborative Filtering\\n\"\n",
        "                \"2. Item-Based Collaborative Filtering\\n\"\n",
        "                \"3. Exit the model\"\n",
        "                \"Enter your choice (1 or 2 or 3): \"\n",
        "            ).strip()\n",
        "\n",
        "        # Step 2: Request user ID for recommendations\n",
        "        if method_choice == \"1\":\n",
        "          raw_input_val = input(\"\\nEnter a user ID to get recommendations: \").strip()\n",
        "          print(f\"DEBUG: You entered -> '{raw_input_val}'\")  # Debug line\n",
        "          target_user = int(raw_input_val)\n",
        "\n",
        "          print(f\"\\n--- User-Based Recommendations for User {target_user} ---\")\n",
        "          recs = recommend_movies_user_based(target_user, top_n=10, k_neighbors=5)\n",
        "          if not recs.empty:\n",
        "            print(recs)\n",
        "\n",
        "          print(\"\\n--- Evaluating User-Based Precision@10 ---\")\n",
        "          precision = precision_at_k_user_based(k=10)\n",
        "          print(f\"Precision@10: {precision:.4f}\")\n",
        "\n",
        "        elif method_choice == \"2\":\n",
        "            raw_input_val = input(\"\\nEnter a user ID to get recommendations: \").strip()\n",
        "            print(f\"DEBUG: You entered -> '{raw_input_val}'\")  # Debug line\n",
        "            target_user = int(raw_input_val)\n",
        "\n",
        "            print(f\"\\n--- Item-Based Recommendations for User {target_user} ---\")\n",
        "            recs = recommend_movies_item_based(target_user, top_n=10)\n",
        "            if not recs.empty:\n",
        "              print(recs)\n",
        "\n",
        "            print(\"\\n--- Evaluating Item-Based Precision@10 ---\")\n",
        "            precision = precision_at_k_item_based(k=10)\n",
        "            print(f\"Precision@10: {precision:.4f}\")\n",
        "\n",
        "        elif method_choice==\"3\":\n",
        "\n",
        "          print(\"\\n Exiting the model. Goodbye!\")\n",
        "          break\n",
        "        else:\n",
        "          print(\"Invalid choice. Please enter 1 or 2.\")\n",
        "\n",
        "      except ValueError:\n",
        "        print(\"Invalid input. Please enter a valid integer user ID.\")\n",
        "      except Exception as e:\n",
        "        print(f\"An error occurred: {e}\")\n",
        "\n",
        "\n",
        "# ============================================================\n",
        "# 14. Entry Point\n",
        "# ============================================================\n",
        "if __name__ == \"__main__\":\n",
        "    main()\n"
      ],
      "metadata": {
        "colab": {
          "base_uri": "https://localhost:8080/",
          "height": 1000
        },
        "id": "McuIzLkbfQzg",
        "outputId": "bccb1f39-c4b3-4bce-a286-51154d4f25c0"
      },
      "execution_count": 56,
      "outputs": [
        {
          "output_type": "stream",
          "name": "stdout",
          "text": [
            "\n",
            "--- Generating Plots ---\n"
          ]
        },
        {
          "output_type": "display_data",
          "data": {
            "text/plain": [
              "<Figure size 600x400 with 1 Axes>"
            ],
            "image/png": "[encoded data removed]"
          },
          "metadata": {}
        },
        {
          "output_type": "stream",
          "name": "stderr",
          "text": [
            "/tmp/ipython-input-2569321741.py:19: FutureWarning: \n",
            "\n",
            "Passing `palette` without assigning `hue` is deprecated and will be removed in v0.14.0. Assign the `y` variable to `hue` and set `legend=False` for the same effect.\n",
            "\n",
            "  sns.barplot(x=movie_counts.values, y=movie_counts.index, palette='viridis')\n"
          ]
        },
        {
          "output_type": "display_data",
          "data": {
            "text/plain": [
              "<Figure size 600x400 with 1 Axes>"
            ],
            "image/png": "[encoded data removed]"
          },
          "metadata": {}
        },
        {
          "output_type": "stream",
          "name": "stdout",
          "text": [
            "\n",
            "--- Movie Recommendation System Demo ---\n",
            "Welcome to the Movie Recommendation System!\n",
            "Please choose a recommendation method:\n",
            "\n",
            "Choose a recommendation method:\n",
            "1. User-Based Collaborative Filtering\n",
            "2. Item-Based Collaborative Filtering\n",
            "3. Exit the modelEnter your choice (1 or 2 or 3): 1\n",
            "\n",
            "Enter a user ID to get recommendations: 22\n",
            "DEBUG: You entered -> '22'\n",
            "\n",
            "--- User-Based Recommendations for User 22 ---\n",
            "                                movie title  predicted_score\n",
            "movie_id                                                    \n",
            "82                     Jurassic Park (1993)         3.903391\n",
            "204               Back to the Future (1985)         3.880970\n",
            "183                            Alien (1979)         3.634421\n",
            "22                        Braveheart (1995)         3.482916\n",
            "121           Independence Day (ID4) (1996)         3.243710\n",
            "64         Shawshank Redemption, The (1994)         2.498988\n",
            "234                             Jaws (1975)         2.455041\n",
            "423       E.T. the Extra-Terrestrial (1982)         2.298508\n",
            "98         Silence of the Lambs, The (1991)         2.218741\n",
            "554                       Waterworld (1995)         2.200852\n",
            "\n",
            "--- Evaluating User-Based Precision@10 ---\n",
            "Precision@10: 0.2683\n",
            "\n",
            "Choose a recommendation method:\n",
            "1. User-Based Collaborative Filtering\n",
            "2. Item-Based Collaborative Filtering\n",
            "3. Exit the modelEnter your choice (1 or 2 or 3): 2\n",
            "\n",
            "Enter a user ID to get recommendations: 1\n",
            "DEBUG: You entered -> '1'\n",
            "\n",
            "--- Item-Based Recommendations for User 1 ---\n",
            "                                                movie title  predicted_score\n",
            "movie_id                                                                    \n",
            "1662                                     Rough Magic (1995)         4.514659\n",
            "1672                                            Kika (1993)         4.487548\n",
            "1347      Ballad of Narayama, The (Narayama Bushiko) (1958)         4.485032\n",
            "1332      My Life and Times With Antonin Artaud (En comp...         4.444748\n",
            "1618                                King of New York (1990)         4.339733\n",
            "1656                                     Little City (1998)         4.319426\n",
            "1342                      Convent, The (Convento, O) (1995)         4.261459\n",
            "1642                               Some Mother's Son (1996)         4.253679\n",
            "1628                                        Lamerica (1994)         4.253679\n",
            "1674                                      Mamma Roma (1962)         4.244529\n",
            "\n",
            "--- Evaluating Item-Based Precision@10 ---\n",
            "Precision@10: 0.0004\n",
            "\n",
            "Choose a recommendation method:\n",
            "1. User-Based Collaborative Filtering\n",
            "2. Item-Based Collaborative Filtering\n",
            "3. Exit the modelEnter your choice (1 or 2 or 3): 3\n",
            "\n",
            " Exiting the model. Goodbye!\n"
          ]
        }
      ]
    },
    {
      "cell_type": "code",
      "source": [],
      "metadata": {
        "id": "5qTX04nbir1W"
      },
      "execution_count": 55,
      "outputs": []
    }
  ]
}